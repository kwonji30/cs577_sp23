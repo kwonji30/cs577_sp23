{
 "cells": [
  {
   "cell_type": "code",
   "execution_count": 2,
   "id": "abc64e68-9be2-4eed-abbe-c6e015380d60",
   "metadata": {
    "tags": []
   },
   "outputs": [],
   "source": [
    "import torch\n",
    "import pandas as pd\n",
    "import numpy as np\n",
    "from transformers import AutoTokenizer, AutoModel\n",
    "import torch.nn as nn\n",
    "from torch.utils.data import Dataset\n",
    "\n",
    "device = torch.device('cuda' if torch.cuda.is_available() else 'cpu')"
   ]
  },
  {
   "cell_type": "code",
   "execution_count": 3,
   "id": "3269e68c-4334-4026-8db7-a5bd564023c8",
   "metadata": {
    "tags": []
   },
   "outputs": [],
   "source": [
    "# Calculate accuracy (a classification metric)\n",
    "def accuracy_fn(y_true, y_pred):\n",
    "    \"\"\"Calculates accuracy between truth labels and predictions.\n",
    "\n",
    "    Args:\n",
    "        y_true (torch.Tensor): Truth labels for predictions.\n",
    "        y_pred (torch.Tensor): Predictions to be compared to predictions.\n",
    "\n",
    "    Returns:\n",
    "        [torch.float]: Accuracy value between y_true and y_pred, e.g. 78.45\n",
    "    \"\"\"\n",
    "    correct = torch.eq(y_true, y_pred).sum().item()\n",
    "    acc = (correct / len(y_pred)) * 100\n",
    "    return acc"
   ]
  },
  {
   "cell_type": "code",
   "execution_count": 4,
   "id": "b50dd2f5-b919-4de5-9871-bbc368d182e6",
   "metadata": {
    "tags": []
   },
   "outputs": [],
   "source": [
    "class DNN(nn.Module):\n",
    "    def __init__(self, input_size, hidden_size, num_classes):\n",
    "        super().__init__()\n",
    "        self.fc1 = nn.Linear(input_size, hidden_size)\n",
    "        self.relu1 = nn.ReLU()\n",
    "        self.fc2 = nn.Linear(hidden_size, hidden_size)\n",
    "        self.relu2 = nn.ReLU()\n",
    "        self.fc3 = nn.Linear(hidden_size, num_classes)\n",
    "        \n",
    "    def forward(self, x):\n",
    "        out = self.fc1(x)\n",
    "        out = self.relu1(out)\n",
    "        out = self.fc2(out)\n",
    "        out = self.relu2(out)\n",
    "        out = self.fc3(out)\n",
    "        return out"
   ]
  },
  {
   "cell_type": "code",
   "execution_count": 5,
   "id": "de272401-5d64-42d0-878f-c973d220268b",
   "metadata": {
    "tags": []
   },
   "outputs": [],
   "source": [
    "# Load the model\n",
    "gpt_model = DNN(input_size=768*65,\n",
    "               hidden_size=512,\n",
    "               num_classes=1).to(device)"
   ]
  },
  {
   "cell_type": "code",
   "execution_count": 6,
   "id": "d5c8e94a-79c0-4d17-9cc0-9b2f5f994160",
   "metadata": {
    "tags": []
   },
   "outputs": [],
   "source": [
    "def pad_sequences(sequences):\n",
    "    padded_sequences = []\n",
    "    for seq in sequences:\n",
    "        if seq.size(0) <= 65:\n",
    "            padded_seq = torch.nn.functional.pad(seq, (0, 0, 0, 65 - seq.size(0)), mode='constant', value=0)\n",
    "        else:\n",
    "            padded_seq = seq[:65]\n",
    "        padded_sequences.append(padded_seq)\n",
    "    return torch.stack(padded_sequences)"
   ]
  },
  {
   "cell_type": "code",
   "execution_count": 7,
   "id": "10289200-270a-4484-8c05-acffcbeb4df2",
   "metadata": {
    "tags": []
   },
   "outputs": [],
   "source": [
    "class customDataset(Dataset):\n",
    "    def __init__(self, path):\n",
    "        df_data = pd.read_csv(path+\"data.txt\",\n",
    "                              delimiter='\\t',\n",
    "                              names=['Target Word', 'PoS', 'Index', 'Context1', 'Context2'])\n",
    "        df_label = pd.read_csv(path+'gold.txt',\n",
    "                               delimiter='\\t',\n",
    "                               names=['label'])\n",
    "        self.data = pd.concat([df_data, df_label], axis=1)\n",
    "        self.data['Joined'] = self.data['Context1'] + \" \" + self.data['Context2']\n",
    "        self.data['label'] = self.data['label'].map(lambda x: 0 if x == 'false' else 1)\n",
    "        self.tokenizer = AutoTokenizer.from_pretrained('gpt2')\n",
    "        self.model = AutoModel.from_pretrained('gpt2')\n",
    "        \n",
    "    def __len__(self):\n",
    "        return len(self.data)\n",
    "    \n",
    "    def __getitem__(self, idx):\n",
    "        gpt_token = self.tokenizer(self.data['Joined'].iloc[idx], return_tensors='pt')\n",
    "        gpt_outputs = self.model(gpt_token['input_ids'])[0]\n",
    "        padded_outputs = pad_sequences(gpt_outputs)\n",
    "        return (padded_outputs, torch.tensor(self.data['label'].iloc[idx], dtype=torch.float32))\n",
    "    \n",
    "train_path = r\"C:\\Users\\joowa\\OneDrive\\Spring 2023\\CS577\\Project\\WiC_dataset\\train\\train.\"\n",
    "valid_path = r\"C:\\Users\\joowa\\OneDrive\\Spring 2023\\CS577\\Project\\WiC_dataset\\dev\\dev.\"\n",
    "test_path = r\"C:\\Users\\joowa\\OneDrive\\Spring 2023\\CS577\\Project\\WiC_dataset\\test\\test.\""
   ]
  },
  {
   "cell_type": "code",
   "execution_count": 8,
   "id": "3124e6ef-2ce9-4c95-94fb-6b52eb483766",
   "metadata": {
    "tags": []
   },
   "outputs": [
    {
     "data": {
      "text/plain": [
       "<All keys matched successfully>"
      ]
     },
     "execution_count": 8,
     "metadata": {},
     "output_type": "execute_result"
    }
   ],
   "source": [
    "test_data = customDataset(test_path)\n",
    "test_dataloader = torch.utils.data.DataLoader(dataset=test_data,\n",
    "                                             batch_size=32,\n",
    "                                             shuffle=False)\n",
    "gpt_model = DNN(input_size=768*65, hidden_size=512, num_classes=1).to(device)\n",
    "gpt_model.load_state_dict(torch.load('gpt_model_wic_2.path'))"
   ]
  },
  {
   "cell_type": "code",
   "execution_count": 9,
   "id": "941f836d-9367-4093-b4d1-f8dcb11c77e9",
   "metadata": {
    "tags": []
   },
   "outputs": [],
   "source": [
    "pred_list, labels_list = [], []\n",
    "gpt_model.eval()\n",
    "with torch.inference_mode():\n",
    "    for inputs, labels in test_dataloader:\n",
    "        inputs = inputs.to(device)\n",
    "        flattened_inputs = inputs.view(inputs.size(0), -1)\n",
    "        test_logits = gpt_model(flattened_inputs)\n",
    "        pred = torch.round(torch.sigmoid(test_logits))\n",
    "        pred_list.append(pred.cpu().numpy())\n",
    "        labels_list.append(labels.numpy())\n",
    "        "
   ]
  },
  {
   "cell_type": "code",
   "execution_count": 13,
   "id": "5c4733a5-6158-4616-97d6-f2ea8d16d39c",
   "metadata": {
    "tags": []
   },
   "outputs": [],
   "source": [
    "pred_array = np.concatenate(pred_list)\n",
    "labels_array = np.concatenate(labels_list)\n",
    "pred_array = pred_array.ravel()"
   ]
  },
  {
   "cell_type": "code",
   "execution_count": 14,
   "id": "036b0c7e-24d9-4df3-8036-a54f92eb498c",
   "metadata": {
    "tags": []
   },
   "outputs": [
    {
     "data": {
      "text/plain": [
       "0.54"
      ]
     },
     "execution_count": 14,
     "metadata": {},
     "output_type": "execute_result"
    }
   ],
   "source": [
    "np.mean(pred_array == labels_array)"
   ]
  },
  {
   "cell_type": "code",
   "execution_count": 15,
   "id": "6e383d34-5965-4854-b491-ac9121d46169",
   "metadata": {
    "tags": []
   },
   "outputs": [
    {
     "data": {
      "text/plain": [
       "array([0., 0., 0., ..., 1., 1., 1.], dtype=float32)"
      ]
     },
     "execution_count": 15,
     "metadata": {},
     "output_type": "execute_result"
    }
   ],
   "source": [
    "pred_array"
   ]
  },
  {
   "cell_type": "code",
   "execution_count": 16,
   "id": "b09281f1-6af9-45b3-8e3e-8a2383ddbd0f",
   "metadata": {
    "tags": []
   },
   "outputs": [
    {
     "data": {
      "text/plain": [
       "array([1., 1., 1., ..., 1., 1., 1.], dtype=float32)"
      ]
     },
     "execution_count": 16,
     "metadata": {},
     "output_type": "execute_result"
    }
   ],
   "source": [
    "labels_array"
   ]
  },
  {
   "cell_type": "code",
   "execution_count": null,
   "id": "56a29090-b0e9-4545-a6cb-a39c78fb7732",
   "metadata": {},
   "outputs": [],
   "source": []
  }
 ],
 "metadata": {
  "kernelspec": {
   "display_name": "Python 3 (ipykernel)",
   "language": "python",
   "name": "python3"
  },
  "language_info": {
   "codemirror_mode": {
    "name": "ipython",
    "version": 3
   },
   "file_extension": ".py",
   "mimetype": "text/x-python",
   "name": "python",
   "nbconvert_exporter": "python",
   "pygments_lexer": "ipython3",
   "version": "3.11.3"
  }
 },
 "nbformat": 4,
 "nbformat_minor": 5
}
