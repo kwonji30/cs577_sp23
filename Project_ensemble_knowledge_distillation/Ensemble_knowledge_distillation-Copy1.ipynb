{
 "cells": [
  {
   "cell_type": "code",
   "execution_count": 1,
   "id": "cb58b738-ded5-4d56-99ed-60591d1fd239",
   "metadata": {
    "tags": []
   },
   "outputs": [
    {
     "name": "stderr",
     "output_type": "stream",
     "text": [
      "[nltk_data] Downloading package punkt to\n",
      "[nltk_data]     C:\\Users\\joowa\\AppData\\Roaming\\nltk_data...\n",
      "[nltk_data]   Package punkt is already up-to-date!\n"
     ]
    }
   ],
   "source": [
    "import pandas as pd\n",
    "import numpy as np\n",
    "from torch.utils.data import Dataset\n",
    "import torch\n",
    "import torch.nn as nn\n",
    "import torch.nn.utils.rnn as rnn_utils\n",
    "from nltk.tokenize import word_tokenize\n",
    "import nltk\n",
    "\n",
    "nltk.download('punkt')\n",
    "device = torch.device('cuda' if torch.cuda.is_available() else 'cpu')\n",
    "# device = torch.device('cpu')"
   ]
  },
  {
   "cell_type": "code",
   "execution_count": 2,
   "id": "c1fc36c6-0313-46c6-b75c-5052611e5580",
   "metadata": {
    "tags": []
   },
   "outputs": [],
   "source": [
    "def collate_fn(batch):\n",
    "    inputs, labels = zip(*batch)\n",
    "    # pad the inputs with zeros to make them the same length\n",
    "    inputs_padded = rnn_utils.pad_sequence(inputs, batch_first=True)\n",
    "    # get the sequence lenghts of the inputs\n",
    "    seq_length = torch.LongTensor([len(seq) for seq in inputs])\n",
    "    \n",
    "    # sort the inputs and labels by the sequence lengths\n",
    "    seq_length, sort_idx = seq_length.sort(descending=True)\n",
    "    inputs_padded = inputs_padded[sort_idx].to(device)\n",
    "    labels_sorted = torch.tensor(labels, dtype=torch.float32)[sort_idx].to(device)\n",
    "\n",
    "    return inputs_padded, labels_sorted, seq_length"
   ]
  },
  {
   "cell_type": "code",
   "execution_count": 3,
   "id": "32ef519b-e237-4286-84bb-5402c0a11bc7",
   "metadata": {
    "tags": []
   },
   "outputs": [],
   "source": [
    "class Vocabulary:\n",
    "    def __init__(self):\n",
    "        self.index2str = {0:\"<PAD>\", 1:\"<SOS>\", 2:\"<EOS>\", 3:\"<UNK>\", 4:\"<SEP>\"}\n",
    "        self.str2index = {\"<PAD>\":0, \"<SOS>\":1, \"<EOS>\":2, \"<UNK>\":3, \"<SEP>\":4}\n",
    "        \n",
    "    def __len__(self):\n",
    "        return len(self.index2str)\n",
    "    \n",
    "    @staticmethod\n",
    "    def tokenizer_eng(text):\n",
    "        return word_tokenize(text.lower())\n",
    "    \n",
    "    def build_vocabulary(self, sentence_list):\n",
    "        index = 5\n",
    "        for sentence in sentence_list:\n",
    "            for word in self.tokenizer_eng(sentence):\n",
    "                if word not in self.str2index:\n",
    "                    self.index2str[index] = word\n",
    "                    self.str2index[word] = index\n",
    "                    index += 1\n",
    "                    \n",
    "    def encode(self, text):\n",
    "        tokenized_text = self.tokenizer_eng(text)\n",
    "        result = []\n",
    "        for token in tokenized_text:\n",
    "            if token in self.str2index:\n",
    "                result.append(self.str2index[token])\n",
    "            else:\n",
    "                result.append(self.str2index['<UNK>'])\n",
    "        return result\n",
    "    \n",
    "    def decode(self, tokens):\n",
    "        return [self.index2str[token] for token in tokens]\n",
    "    \n",
    "    "
   ]
  },
  {
   "cell_type": "code",
   "execution_count": 4,
   "id": "abf1e63c-3aef-4cb6-abc6-ac939246eb5b",
   "metadata": {
    "tags": []
   },
   "outputs": [],
   "source": [
    "class newDataset(Dataset):\n",
    "    def __init__(self, df, vocab):\n",
    "        self.data = df\n",
    "        self.vocab = vocab\n",
    "        \n",
    "    def __len__(self):\n",
    "        return len(self.data)\n",
    "    \n",
    "    def __getitem__(self, idx):\n",
    "        inputs = self.vocab.encode(self.data['Joined'].iloc[idx])\n",
    "        label = self.data['Label'].iloc[idx]\n",
    "        \n",
    "        return (torch.tensor(inputs, dtype=torch.int64), torch.tensor(label, dtype=torch.float32) )"
   ]
  },
  {
   "cell_type": "code",
   "execution_count": 5,
   "id": "64d301a3-aca1-427a-b63c-906ce096cf70",
   "metadata": {
    "tags": []
   },
   "outputs": [],
   "source": [
    "class student(nn.Module):\n",
    "    def __init__(self, vocab_size, embedding_dim, hidden_dim, output_dim):\n",
    "        super().__init__()\n",
    "        self.hidden_dim = hidden_dim\n",
    "        self.embedding = nn.Embedding(vocab_size, embedding_dim)\n",
    "        self.lstm = nn.LSTM(embedding_dim, hidden_dim, bidirectional=True, batch_first=True)\n",
    "        self.fc1 = nn.Linear(2*hidden_dim, 2*hidden_dim)\n",
    "        self.relu1 = nn.ReLU()\n",
    "        self.fc2 = nn.Linear(2*hidden_dim, 2*hidden_dim)\n",
    "        self.relu2 = nn.ReLU()\n",
    "        self.fc3 = nn.Linear(2*hidden_dim, output_dim)\n",
    "        \n",
    "    def forward(self, text, text_length):\n",
    "        text_embedded = self.embedding(text.long())\n",
    "        packed_text = rnn_utils.pack_padded_sequence(text_embedded, text_length, batch_first=True)\n",
    "        packed_output, _ = self.lstm(packed_text)\n",
    "        output, _ = rnn_utils.pad_packed_sequence(packed_output, batch_first=True)\n",
    "\n",
    "        \n",
    "        out_forward = output[range(len(output)), seq_length - 1, :self.hidden_dim]\n",
    "        out_reverse = output[:, 0, self.hidden_dim:]\n",
    "        out_reduced = torch.cat((out_forward, out_reverse), 1)\n",
    "        out = self.fc1(out_reduced)\n",
    "        out = self.relu1(out)\n",
    "        out = self.fc2(out)\n",
    "        out = self.relu2(out)\n",
    "        out = self.fc3(out)\n",
    "        return out"
   ]
  },
  {
   "cell_type": "code",
   "execution_count": 6,
   "id": "97df6780-8345-42b0-901e-62041c819a79",
   "metadata": {
    "tags": []
   },
   "outputs": [],
   "source": [
    "df = pd.read_csv('new_data.csv')"
   ]
  },
  {
   "cell_type": "code",
   "execution_count": 7,
   "id": "dbf66689-1dc7-45e4-abe0-ab887afac13d",
   "metadata": {
    "tags": []
   },
   "outputs": [],
   "source": [
    "vocab = Vocabulary()\n",
    "vocab.build_vocabulary(df['Joined'].tolist())"
   ]
  },
  {
   "cell_type": "code",
   "execution_count": 8,
   "id": "64d9b33d-cad4-4f95-9f9c-bf7c4a645345",
   "metadata": {
    "tags": []
   },
   "outputs": [],
   "source": [
    "train_data = newDataset(df,vocab)\n",
    "train_dataloader = torch.utils.data.DataLoader(train_data,\n",
    "                                         batch_size=32,\n",
    "                                         drop_last=True,\n",
    "                                         collate_fn = collate_fn\n",
    "                                         )"
   ]
  },
  {
   "cell_type": "code",
   "execution_count": 56,
   "id": "cd7fbc35-c5c5-4746-8f94-401a72fd1fd1",
   "metadata": {
    "tags": []
   },
   "outputs": [],
   "source": [
    "model = student(vocab_size = len(train_data.vocab),\n",
    "               embedding_dim=768,\n",
    "               hidden_dim=1024,\n",
    "               output_dim=1).to(device)\n",
    "lr = 0.001\n",
    "num_epochs = 200\n",
    "optimizer = torch.optim.Adam(model.parameters(), lr)\n",
    "criterion = nn.BCEWithLogitsLoss()\n",
    "# criterion = nn.MSELoss()"
   ]
  },
  {
   "cell_type": "code",
   "execution_count": 48,
   "id": "a224952f-83ee-4aaa-99cb-c068ebb184f9",
   "metadata": {
    "tags": []
   },
   "outputs": [],
   "source": [
    "# inputs, labels, seq_length = next(iter(train_dataloader))\n",
    "# for inputs, labels, seq_length in train_dataloader:\n",
    "#     print(f\"inputs shape is: {inputs.shape}\" )"
   ]
  },
  {
   "cell_type": "code",
   "execution_count": null,
   "id": "d01373b1-6be3-4999-8492-469ae96d5554",
   "metadata": {
    "collapsed": true,
    "jupyter": {
     "outputs_hidden": true
    },
    "tags": []
   },
   "outputs": [],
   "source": []
  },
  {
   "cell_type": "code",
   "execution_count": 49,
   "id": "401ba123-8277-4471-9bc4-02a75a8deea6",
   "metadata": {
    "tags": []
   },
   "outputs": [],
   "source": [
    "# model(inputs, seq_length)"
   ]
  },
  {
   "cell_type": "code",
   "execution_count": 51,
   "id": "1abd3d62-d43e-4de1-8127-05f678ab5a7b",
   "metadata": {
    "tags": []
   },
   "outputs": [
    {
     "name": "stdout",
     "output_type": "stream",
     "text": [
      "Epoch: 0\n",
      "=========\n",
      "text_embedded shape is : torch.Size([32, 32, 768])\n",
      "out shape is: torch.Size([534, 1])\n",
      "tensor([3.6301e-13, 6.6667e-01, 6.6667e-01, 1.0000e+00, 3.5847e-01, 2.5141e-02,\n",
      "        6.6666e-01, 3.3334e-01, 3.3335e-01, 3.3333e-01, 1.0000e+00, 7.3573e-06,\n",
      "        6.6667e-01, 6.6667e-01, 3.3334e-01, 3.3334e-01, 6.6667e-01, 3.3448e-01,\n",
      "        3.3333e-01, 6.6667e-01, 5.3753e-07, 4.5793e-03, 9.9965e-01, 5.3456e-05,\n",
      "        1.5328e-06, 1.7839e-05, 1.0327e-06, 9.9990e-01, 3.2431e-09, 6.6667e-01,\n",
      "        1.0000e+00, 1.4634e-03], device='cuda:0')\n"
     ]
    },
    {
     "ename": "ValueError",
     "evalue": "Target size (torch.Size([32])) must be the same as input size (torch.Size([534]))",
     "output_type": "error",
     "traceback": [
      "\u001b[1;31m---------------------------------------------------------------------------\u001b[0m",
      "\u001b[1;31mValueError\u001b[0m                                Traceback (most recent call last)",
      "Cell \u001b[1;32mIn[51], line 11\u001b[0m\n\u001b[0;32m      9\u001b[0m \u001b[38;5;28mprint\u001b[39m(labels)\n\u001b[0;32m     10\u001b[0m \u001b[38;5;66;03m# Calculate the loss\u001b[39;00m\n\u001b[1;32m---> 11\u001b[0m loss \u001b[38;5;241m=\u001b[39m \u001b[43mcriterion\u001b[49m\u001b[43m(\u001b[49m\u001b[43mlogits\u001b[49m\u001b[43m,\u001b[49m\u001b[43m \u001b[49m\u001b[43mlabels\u001b[49m\u001b[43m)\u001b[49m\n\u001b[0;32m     12\u001b[0m train_loss \u001b[38;5;241m+\u001b[39m\u001b[38;5;241m=\u001b[39m loss\n\u001b[0;32m     13\u001b[0m \u001b[38;5;66;03m# Zero the gradient\u001b[39;00m\n",
      "File \u001b[1;32m~\\AppData\\Local\\Packages\\PythonSoftwareFoundation.Python.3.11_qbz5n2kfra8p0\\LocalCache\\local-packages\\Python311\\site-packages\\torch\\nn\\modules\\module.py:1501\u001b[0m, in \u001b[0;36mModule._call_impl\u001b[1;34m(self, *args, **kwargs)\u001b[0m\n\u001b[0;32m   1496\u001b[0m \u001b[38;5;66;03m# If we don't have any hooks, we want to skip the rest of the logic in\u001b[39;00m\n\u001b[0;32m   1497\u001b[0m \u001b[38;5;66;03m# this function, and just call forward.\u001b[39;00m\n\u001b[0;32m   1498\u001b[0m \u001b[38;5;28;01mif\u001b[39;00m \u001b[38;5;129;01mnot\u001b[39;00m (\u001b[38;5;28mself\u001b[39m\u001b[38;5;241m.\u001b[39m_backward_hooks \u001b[38;5;129;01mor\u001b[39;00m \u001b[38;5;28mself\u001b[39m\u001b[38;5;241m.\u001b[39m_backward_pre_hooks \u001b[38;5;129;01mor\u001b[39;00m \u001b[38;5;28mself\u001b[39m\u001b[38;5;241m.\u001b[39m_forward_hooks \u001b[38;5;129;01mor\u001b[39;00m \u001b[38;5;28mself\u001b[39m\u001b[38;5;241m.\u001b[39m_forward_pre_hooks\n\u001b[0;32m   1499\u001b[0m         \u001b[38;5;129;01mor\u001b[39;00m _global_backward_pre_hooks \u001b[38;5;129;01mor\u001b[39;00m _global_backward_hooks\n\u001b[0;32m   1500\u001b[0m         \u001b[38;5;129;01mor\u001b[39;00m _global_forward_hooks \u001b[38;5;129;01mor\u001b[39;00m _global_forward_pre_hooks):\n\u001b[1;32m-> 1501\u001b[0m     \u001b[38;5;28;01mreturn\u001b[39;00m \u001b[43mforward_call\u001b[49m\u001b[43m(\u001b[49m\u001b[38;5;241;43m*\u001b[39;49m\u001b[43margs\u001b[49m\u001b[43m,\u001b[49m\u001b[43m \u001b[49m\u001b[38;5;241;43m*\u001b[39;49m\u001b[38;5;241;43m*\u001b[39;49m\u001b[43mkwargs\u001b[49m\u001b[43m)\u001b[49m\n\u001b[0;32m   1502\u001b[0m \u001b[38;5;66;03m# Do not call functions when jit is used\u001b[39;00m\n\u001b[0;32m   1503\u001b[0m full_backward_hooks, non_full_backward_hooks \u001b[38;5;241m=\u001b[39m [], []\n",
      "File \u001b[1;32m~\\AppData\\Local\\Packages\\PythonSoftwareFoundation.Python.3.11_qbz5n2kfra8p0\\LocalCache\\local-packages\\Python311\\site-packages\\torch\\nn\\modules\\loss.py:720\u001b[0m, in \u001b[0;36mBCEWithLogitsLoss.forward\u001b[1;34m(self, input, target)\u001b[0m\n\u001b[0;32m    719\u001b[0m \u001b[38;5;28;01mdef\u001b[39;00m \u001b[38;5;21mforward\u001b[39m(\u001b[38;5;28mself\u001b[39m, \u001b[38;5;28minput\u001b[39m: Tensor, target: Tensor) \u001b[38;5;241m-\u001b[39m\u001b[38;5;241m>\u001b[39m Tensor:\n\u001b[1;32m--> 720\u001b[0m     \u001b[38;5;28;01mreturn\u001b[39;00m \u001b[43mF\u001b[49m\u001b[38;5;241;43m.\u001b[39;49m\u001b[43mbinary_cross_entropy_with_logits\u001b[49m\u001b[43m(\u001b[49m\u001b[38;5;28;43minput\u001b[39;49m\u001b[43m,\u001b[49m\u001b[43m \u001b[49m\u001b[43mtarget\u001b[49m\u001b[43m,\u001b[49m\n\u001b[0;32m    721\u001b[0m \u001b[43m                                              \u001b[49m\u001b[38;5;28;43mself\u001b[39;49m\u001b[38;5;241;43m.\u001b[39;49m\u001b[43mweight\u001b[49m\u001b[43m,\u001b[49m\n\u001b[0;32m    722\u001b[0m \u001b[43m                                              \u001b[49m\u001b[43mpos_weight\u001b[49m\u001b[38;5;241;43m=\u001b[39;49m\u001b[38;5;28;43mself\u001b[39;49m\u001b[38;5;241;43m.\u001b[39;49m\u001b[43mpos_weight\u001b[49m\u001b[43m,\u001b[49m\n\u001b[0;32m    723\u001b[0m \u001b[43m                                              \u001b[49m\u001b[43mreduction\u001b[49m\u001b[38;5;241;43m=\u001b[39;49m\u001b[38;5;28;43mself\u001b[39;49m\u001b[38;5;241;43m.\u001b[39;49m\u001b[43mreduction\u001b[49m\u001b[43m)\u001b[49m\n",
      "File \u001b[1;32m~\\AppData\\Local\\Packages\\PythonSoftwareFoundation.Python.3.11_qbz5n2kfra8p0\\LocalCache\\local-packages\\Python311\\site-packages\\torch\\nn\\functional.py:3163\u001b[0m, in \u001b[0;36mbinary_cross_entropy_with_logits\u001b[1;34m(input, target, weight, size_average, reduce, reduction, pos_weight)\u001b[0m\n\u001b[0;32m   3160\u001b[0m     reduction_enum \u001b[38;5;241m=\u001b[39m _Reduction\u001b[38;5;241m.\u001b[39mget_enum(reduction)\n\u001b[0;32m   3162\u001b[0m \u001b[38;5;28;01mif\u001b[39;00m \u001b[38;5;129;01mnot\u001b[39;00m (target\u001b[38;5;241m.\u001b[39msize() \u001b[38;5;241m==\u001b[39m \u001b[38;5;28minput\u001b[39m\u001b[38;5;241m.\u001b[39msize()):\n\u001b[1;32m-> 3163\u001b[0m     \u001b[38;5;28;01mraise\u001b[39;00m \u001b[38;5;167;01mValueError\u001b[39;00m(\u001b[38;5;124m\"\u001b[39m\u001b[38;5;124mTarget size (\u001b[39m\u001b[38;5;132;01m{}\u001b[39;00m\u001b[38;5;124m) must be the same as input size (\u001b[39m\u001b[38;5;132;01m{}\u001b[39;00m\u001b[38;5;124m)\u001b[39m\u001b[38;5;124m\"\u001b[39m\u001b[38;5;241m.\u001b[39mformat(target\u001b[38;5;241m.\u001b[39msize(), \u001b[38;5;28minput\u001b[39m\u001b[38;5;241m.\u001b[39msize()))\n\u001b[0;32m   3165\u001b[0m \u001b[38;5;28;01mreturn\u001b[39;00m torch\u001b[38;5;241m.\u001b[39mbinary_cross_entropy_with_logits(\u001b[38;5;28minput\u001b[39m, target, weight, pos_weight, reduction_enum)\n",
      "\u001b[1;31mValueError\u001b[0m: Target size (torch.Size([32])) must be the same as input size (torch.Size([534]))"
     ]
    }
   ],
   "source": [
    "for epoch in range(num_epochs):\n",
    "    print(f\"Epoch: {epoch}\\n=========\")\n",
    "    ### Training\n",
    "    train_loss, train_acc = 0, 0\n",
    "    for inputs, labels, seq_length in train_dataloader:\n",
    "        model.train()\n",
    "        # Forward pass\n",
    "        logits = model(inputs, seq_length).squeeze()\n",
    "        print(labels)\n",
    "        # Calculate the loss\n",
    "        loss = criterion(logits, labels)\n",
    "        train_loss += loss\n",
    "        # Zero the gradient\n",
    "        optimizer.zero_grad()\n",
    "        ## Perform backpropagation\n",
    "        loss.backward()\n",
    "        # Perform gradient descent\n",
    "        optimizer.step()\n",
    "    train_loss /= len(train_dataloader)\n",
    "    print(f\"Train Loss: {train_loss:.4f}\")"
   ]
  },
  {
   "cell_type": "code",
   "execution_count": 49,
   "id": "08404ca1-a6a0-435a-98a6-f53120aa5831",
   "metadata": {
    "tags": []
   },
   "outputs": [],
   "source": [
    "test_path = r\"C:\\Users\\joowa\\OneDrive\\Spring 2023\\CS577\\Project\\WiC_dataset\\test\\test.\"\n",
    "test_data = pd.read_csv(test_path+'data.txt', delimiter='\\t', names=['Target Word', 'PoS', 'Index', 'Context1', 'Context2'])\n",
    "test_label = pd.read_csv(test_path+'gold.txt', delimiter='\\t', names=['Label'])\n",
    "test = pd.concat([test_data, test_label], axis=1)\n",
    "test['Label'] = test['Label'].apply(lambda label: 1 if label == 'T' else 0)\n",
    "test['Joined'] = test['Context1'] + \" \" + test['Context2']"
   ]
  },
  {
   "cell_type": "code",
   "execution_count": 50,
   "id": "2ed71d3f-5b33-4b83-b5c8-4e70ca2778ea",
   "metadata": {
    "tags": []
   },
   "outputs": [],
   "source": [
    "test_data = newDataset(test, vocab)\n",
    "test_dataloader = torch.utils.data.DataLoader(test_data,\n",
    "                                             batch_size=32,\n",
    "                                             drop_last=True,\n",
    "                                             collate_fn=collate_fn)"
   ]
  },
  {
   "cell_type": "code",
   "execution_count": 51,
   "id": "f4007299-723b-47d2-8c2d-1681df97b8c5",
   "metadata": {
    "tags": []
   },
   "outputs": [
    {
     "data": {
      "text/plain": [
       "(43, 43)"
      ]
     },
     "execution_count": 51,
     "metadata": {},
     "output_type": "execute_result"
    }
   ],
   "source": [
    "logits_list, labels_lists = [], []\n",
    "for inputs, labels, seq_length in test_dataloader:\n",
    "    logits = model(inputs, seq_length).squeeze()\n",
    "    logits_list.append(logits)\n",
    "    labels_lists.append(labels)\n",
    "len(logits_list), len(labels_lists)"
   ]
  },
  {
   "cell_type": "code",
   "execution_count": 52,
   "id": "d7d827b0-3f56-42b7-80a9-532ccbe9323b",
   "metadata": {
    "tags": []
   },
   "outputs": [],
   "source": [
    "pred_lists = [torch.round(torch.sigmoid(logit)) for logit in logits_list]\n",
    "pred_vector = torch.cat(pred_lists, dim=0).cpu().detach().numpy()\n",
    "label_vector = torch.cat(labels_lists, dim=0).cpu().detach().numpy() "
   ]
  },
  {
   "cell_type": "code",
   "execution_count": 53,
   "id": "b0c53abd-70f8-4511-9f6b-17869fed24bb",
   "metadata": {
    "tags": []
   },
   "outputs": [
    {
     "data": {
      "text/plain": [
       "0.4992732558139535"
      ]
     },
     "execution_count": 53,
     "metadata": {},
     "output_type": "execute_result"
    }
   ],
   "source": [
    "np.mean(pred_vector == label_vector)"
   ]
  },
  {
   "cell_type": "code",
   "execution_count": null,
   "id": "247b7ee4-6f39-4446-a108-9d687e1828e1",
   "metadata": {},
   "outputs": [],
   "source": []
  },
  {
   "cell_type": "code",
   "execution_count": null,
   "id": "b6128993-b8d7-4dd2-95cb-af6303b1fcf4",
   "metadata": {},
   "outputs": [],
   "source": []
  },
  {
   "cell_type": "code",
   "execution_count": null,
   "id": "cf023243-8bb2-48c2-a218-f52fe6ef2d0c",
   "metadata": {},
   "outputs": [],
   "source": []
  },
  {
   "cell_type": "code",
   "execution_count": null,
   "id": "60d19f3b-4b4e-4c45-9c05-992701316747",
   "metadata": {},
   "outputs": [],
   "source": []
  },
  {
   "cell_type": "code",
   "execution_count": null,
   "id": "45674eec-28ca-489a-b311-e37d0b7c35f9",
   "metadata": {},
   "outputs": [],
   "source": []
  },
  {
   "cell_type": "code",
   "execution_count": null,
   "id": "2e0887f7-5741-43d6-83f7-b795608cff90",
   "metadata": {},
   "outputs": [],
   "source": []
  }
 ],
 "metadata": {
  "kernelspec": {
   "display_name": "Python 3 (ipykernel)",
   "language": "python",
   "name": "python3"
  },
  "language_info": {
   "codemirror_mode": {
    "name": "ipython",
    "version": 3
   },
   "file_extension": ".py",
   "mimetype": "text/x-python",
   "name": "python",
   "nbconvert_exporter": "python",
   "pygments_lexer": "ipython3",
   "version": "3.11.3"
  }
 },
 "nbformat": 4,
 "nbformat_minor": 5
}
